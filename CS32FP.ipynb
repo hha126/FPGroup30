{
 "cells": [
  {
   "cell_type": "markdown",
   "source": "CS 32 FINAL PROJECT: World Bank Data Country Analysis \\\nBy Annabelle Finlayson, Hope Ha, and Larry Jia. \n\nOur project takes user input for a country and four World Bank variables and returns background information, statistics, graphs, rankings, and comparable countries and territories.  All statistics are calculated according to World Bank data (https://data.worldbank.org/?most_recent_value_desc=true).",
   "metadata": {
    "cell_id": "32d9646374db4592891f2b9499e9abb0",
    "tags": [],
    "deepnote_cell_type": "markdown",
    "deepnote_cell_height": 154
   }
  },
  {
   "cell_type": "code",
   "metadata": {
    "cell_id": "72ffb0b1da964f599c386b9abff20732",
    "tags": [],
    "deepnote_to_be_reexecuted": false,
    "source_hash": "9d3340eb",
    "execution_start": 1651605458409,
    "execution_millis": 3093,
    "is_output_hidden": true,
    "deepnote_cell_type": "code",
    "deepnote_cell_height": 165
   },
   "source": "# installation of wbgapi, an application programming interface that accesses World Bank data \n# from: https://data.worldbank.org.\n\n!pip install wbgapi==1.1.2",
   "execution_count": null,
   "outputs": [
    {
     "name": "stdout",
     "text": "Requirement already satisfied: wbgapi==1.1.2 in /root/venv/lib/python3.7/site-packages (1.1.2)\nRequirement already satisfied: tabulate in /shared-libs/python3.7/py/lib/python3.7/site-packages (from wbgapi==1.1.2) (0.8.9)\nRequirement already satisfied: PyYAML in /shared-libs/python3.7/py/lib/python3.7/site-packages (from wbgapi==1.1.2) (6.0)\nRequirement already satisfied: requests in /shared-libs/python3.7/py/lib/python3.7/site-packages (from wbgapi==1.1.2) (2.27.1)\nRequirement already satisfied: urllib3<1.27,>=1.21.1 in /shared-libs/python3.7/py/lib/python3.7/site-packages (from requests->wbgapi==1.1.2) (1.26.9)\nRequirement already satisfied: idna<4,>=2.5; python_version >= \"3\" in /shared-libs/python3.7/py-core/lib/python3.7/site-packages (from requests->wbgapi==1.1.2) (3.3)\nRequirement already satisfied: charset-normalizer~=2.0.0; python_version >= \"3\" in /shared-libs/python3.7/py-core/lib/python3.7/site-packages (from requests->wbgapi==1.1.2) (2.0.12)\nRequirement already satisfied: certifi>=2017.4.17 in /shared-libs/python3.7/py/lib/python3.7/site-packages (from requests->wbgapi==1.1.2) (2021.10.8)\n\u001b[33mWARNING: You are using pip version 20.1.1; however, version 22.0.4 is available.\nYou should consider upgrading via the '/root/venv/bin/python -m pip install --upgrade pip' command.\u001b[0m\n",
     "output_type": "stream"
    }
   ]
  },
  {
   "cell_type": "markdown",
   "source": "Code Block #1 downloads the necessary packages — namely, wbgapi, matplotlib.pyplot, numpy, pandas, and csv. It also sets up a dictionary that will allow us to translate a country code (e.g. \"USA\" or \"CAN\") to the country's readable name (e.g. United States or Canada). We used the same class concept we learned in PSET #4 to read in and transform this csv: https://gist.github.com/radcliff/f09c0f88344a7fcef373.  ",
   "metadata": {
    "cell_id": "3262c69093234bef89ac327246fbed0d",
    "tags": [],
    "deepnote_cell_type": "markdown",
    "deepnote_cell_height": 118
   }
  },
  {
   "cell_type": "code",
   "metadata": {
    "cell_id": "590bc74ba8c14a2d8a705de333f01263",
    "tags": [],
    "deepnote_to_be_reexecuted": false,
    "source_hash": "e6fc3fc7",
    "execution_start": 1651605466270,
    "execution_millis": 1305,
    "deepnote_cell_type": "code",
    "deepnote_cell_height": 315
   },
   "source": "# BLOCK 1: Download packages \nimport wbgapi as wb\nimport matplotlib.pyplot as plt\nimport numpy as np\nimport pandas as pd\nimport csv\n\n# {country code: country name} dictionary\ncodes = {}\nwith open(\"wikipedia-iso-country-codes.csv\", encoding=\"utf-8\") as f:\n    reader = csv.DictReader(f)\n    for row in reader:\n        id = (row[\"Alpha-3 code\"])\n        codes[id] = row[\"English short name lower case\"]",
   "execution_count": null,
   "outputs": []
  },
  {
   "cell_type": "markdown",
   "source": "Our program analyzes by default population and gross domestic product per capita for the country you selected. We can also output statistics for the following variables:  labor force, land area, life expectancy, refugee population, infant mortality rate, and literacy rate. The following Code Block #2 creates our variables. ",
   "metadata": {
    "cell_id": "b986c32f196b4f28ba22d306eff39bf6",
    "tags": [],
    "is_collapsed": false,
    "deepnote_cell_type": "text-cell-p"
   }
  },
  {
   "cell_type": "code",
   "metadata": {
    "cell_id": "11c4f87aa9244d4ea87f9abcd3d157b6",
    "tags": [],
    "deepnote_to_be_reexecuted": false,
    "source_hash": "75a020f0",
    "execution_start": 1651605468741,
    "execution_millis": 3,
    "deepnote_cell_type": "code",
    "deepnote_cell_height": 675
   },
   "source": "# BLOCK 2: Hard coded data/variables\n\n# Default variable codes\nGDP = 'NY.GDP.MKTP.CD'\nPOP = 'SP.POP.TOTL'\n\n# List of variable codes to analyze\nWBVars = [GDP, POP]\n# List of  variable names (user input format) to analyze\nWBNames = [\"GDP\", \"population\"]\n\n# Additional variable codes\nLABFOR = \"SL.TLF.TOTL.IN\"\nLAND = 'AG.LND.TOTL.K2'\nLIFEEXP = 'SP.DYN.LE00.IN'\nREFPOP = \"SM.POP.REFG\" # by country/territory of asylum\nINFMORT = \"SP.DYN.IMRT.IN\"\nLITRATE = \"SE.ADT.LITR.ZS\"\n\n# List of additional variable codes\nWBAddVarCodesList = [LABFOR, LAND, LIFEEXP, REFPOP, INFMORT, LITRATE]\n# List of additional variable names (user input)\nWBAddVarNamesList = [\"labor force\", \"land area\", \"life expectancy\", \"refugee population\", \"infant mortality rate\", \"literacy rate\"]\n\n# List of default and additional variable codes\nWBAllVarCodesList = WBVars + WBAddVarCodesList\n\n# List of default and additional variable names (user input format)\nWBAllVarNamesList = WBNames + WBAddVarNamesList\n\n# create dictionary with key = variable names and value = variable codes for all variables\nvardict = dict(zip(WBAllVarNamesList, WBAllVarCodesList))\n\n",
   "execution_count": null,
   "outputs": []
  },
  {
   "cell_type": "code",
   "metadata": {
    "cell_id": "c9d5d870f8be4ab7a11173976be531aa",
    "tags": [],
    "deepnote_to_be_reexecuted": false,
    "source_hash": "42e4e529",
    "execution_start": 1651605471798,
    "execution_millis": 17527,
    "deepnote_cell_type": "code",
    "deepnote_cell_height": 1876
   },
   "source": "# BLOCK 3: Initial User Input\n\ndef getCountry():\n    \"\"\"Prompts user for input. Returns an inputted country name and the code for that country.\"\"\"\n    while True:\n        countryInput = input('Name of country: ')\n        try:\n            countrydict1 = wb.economy.coder([countryInput])\n            assert(countrydict1[countryInput] != None)\n            CountryCode = countrydict1[countryInput]\n            break\n        except AssertionError:\n            print(\"This is not a valid country name. Try again.\")\n    return countryInput, CountryCode\n\ndef checkForData(variableList, country_code):\n    '''Takes a list of variables and a country code and returns a list of variables for which that country has no data.'''\n    # create list\n    noDataVar = []\n    # see if this country has data for additional variables using mrv = 1\n    for var in variableList:\n        try:\n            countryVardfTest = wb.data.DataFrame(var, country_code, mrv=1)\n        except:\n            noDataVar.append(var)\n    return noDataVar \n\ndef yesOrNo(question):\n    '''Takes a question string and returns a yes or no answer from the user.'''\n    while True:\n        questionAnswer = input(question)\n        try:\n            assert(questionAnswer == \"n\" or questionAnswer == \"y\" or questionAnswer == \"Y\" or questionAnswer == \"N\")\n            break\n        except AssertionError:\n            print(\"This is not a valid answer. Please type Y or N.\")\n    return questionAnswer\n\n\n# get country from user\ncountryGLOBALVAR, CountryCodeGLOBALVAR = getCountry()\n\n# see which variables don't have data\nnoDataVar = checkForData(WBAddVarCodesList, CountryCodeGLOBALVAR)\n\n# assume inputted country has data\nHasData = \"Y\"\n\n# create variable for indicating whether the user would like to select a new country\nwantNewCountry = \"\"\n\n# if there is no data, see if user would like to select a new country\nwhile noDataVar == WBAddVarCodesList:\n    # mark that country has no data\n    HasData = \"N\"\n    wantNewCountry = yesOrNo(f\"The world bank does not have adequate data for {countryGLOBALVAR} for any of the additional variables. Would you like to select another country? (Y/N)\")\n    if wantNewCountry == \"Y\" or wantNewCountry == \"y\":\n        # get new country\n        countryGLOBALVAR, CountryCodeGLOBALVAR = getCountry()\n        # check new country for additional variable data\n        noDataVar = checkForData(WBVarCodesAddList, CountryCodeGLOBALVAR)\n    else:\n        break\n\n\n# If wantNewCountry == yes then the user left the while loop with a country that has some data. \nif wantNewCountry == \"Y\" or wantNewCountry == \"y\":\n    HasData == \"Y\"\n\nwantAdditionalVariables = \"\"\n\n# If country has data on additional variables, ask user if they would like to analyze other variables.\nif HasData == \"Y\":\n    wantAdditionalVariables = yesOrNo(\"Would you like to analyze additional variables? (Y/N)\")\n\n# get variable names from user if they want to analyze more variables\nif wantAdditionalVariables == \"Y\" or wantAdditionalVariables == \"y\":\n    numberOfAddVarsWithData = len(WBAddVarCodesList) - len(noDataVar) \n    # ensures user isn't asked for more additional variables than have data (and no more than 2)\n    for i in range(1, min(numberOfAddVarsWithData ,2) + 1):\n        # doesn't allow users to input variables that do not have data\n        while True:\n            additionalWBVar = input(f\"Additional variable # {i} (labor force, land area, life expectancy, refugee population, infant mortality rate, and literacy rate):\")\n            if additionalWBVar in WBAddVarNamesList:  \n                if vardict[additionalWBVar] in noDataVar:\n                    capitalizedName = countryGLOBALVAR.title()\n                    print(f\"{capitalizedName} does not have data for this variable. Please enter a different variable.\")  \n                else:\n                    break\n            else:\n                print(\"This is not a valid variable. Please enter exact name from the above list.\")\n        # add variable code to list of focus variable codes   \n        WBVars.append(vardict[additionalWBVar])\n        # add variable name to list of focus variable names\n        WBNames.append(additionalWBVar)   \n\n# capitalize final country's name\nCapitalizedCountryName = countryGLOBALVAR.title()     \n",
   "execution_count": null,
   "outputs": [
    {
     "name": "stdout",
     "text": "This is not a valid country name. Try again.\n",
     "output_type": "stream"
    }
   ]
  },
  {
   "cell_type": "markdown",
   "source": "In Block 4, we create a written report for the country we originally asked the user to specify. We use BeautifulSoup to find the overview paragraph in the main section of the Wikipedia entry and display it nicely. We then use two methods to determine the Economy section of the Wikipedia page, and set parameters to see which method works better. The better query is then displayed. Some Wikipedia pages are set up inconsistently (mostly for very small countries) — thus we display an error message when nothing is queried up.",
   "metadata": {
    "cell_id": "6978c43d03314fc9a02922c4a9c39f06",
    "tags": [],
    "deepnote_cell_type": "markdown",
    "deepnote_cell_height": 140
   }
  },
  {
   "cell_type": "code",
   "metadata": {
    "cell_id": "149911e6586442549aa818c7a38b9f8f",
    "tags": [],
    "deepnote_to_be_reexecuted": false,
    "source_hash": "b8e4aa35",
    "execution_start": 1651605491505,
    "execution_millis": 1031,
    "deepnote_cell_type": "code",
    "deepnote_cell_height": 1584
   },
   "source": "# BLOCK 4\n# Scrape Wikipedia, first paragraph\nfrom urllib.request import urlopen\nfrom bs4 import BeautifulSoup\nimport re\nimport random\nimport requests\n\n# Construct url to scrape\ncountryname = countryGLOBALVAR\ncountrynamelist = countryname.split(\" \")\nif len(countrynamelist) == 1:\n    countryurl = str(\"https://en.wikipedia.org/wiki/\" + countryname)\nelse:\n    aggname = '_'.join(str(e) for e in countrynamelist)\n    countryurl = str(\"https://en.wikipedia.org/wiki/\" + aggname)\n\nprint(\"Scraping from: \" + countryurl)\n\n# Read source code and invoke BS\nsource = urlopen(countryurl).read()\nsoup = BeautifulSoup(source,'lxml')\n\n# Grab all body paragraphs\ntext = []\nfor paragraph in soup.find_all('p'):\n    text.append(str(paragraph.text))\n\n# Print country overview\nfirstparagraph = re.sub(r\"[\\(\\[].*?[\\)\\]]\", \"\", text[2])\nfirstparagraph_split = firstparagraph.split(\".\")\n\nprint(\"Country Overview:\")\nif len(firstparagraph) < 50:\n    print(\"The Wikipedia page for \" + countryname + \" is set up unusually.\")\nelse:\n    print(firstparagraph)\n\n# Grab paragraph that talks about economy\nalleconomy = []\neconomy = soup.find('h2',text='Economy')\nprint(\"Economic Overview:\")\nif economy == None:\n    countryname = countryGLOBALVAR\n    countrynamelist = countryname.split(\" \")\n    if len(countrynamelist) == 1:\n        countryurl = str(\"https://en.wikipedia.org/wiki/Economy_of_\" + countryname)\n    else:\n        aggname = '_'.join(str(e) for e in countrynamelist)\n        countryurl = str(\"https://en.wikipedia.org/wiki/Economy_of_\" + aggname)\n\n    # Read source code and invoke BS\n    source = urlopen(countryurl).read()\n    soup = BeautifulSoup(source,'lxml')\n\n    # Grab all body paragraphs\n    text = []\n    for paragraph in soup.find_all('p'):\n        text.append(str(paragraph.text))\n\n    # Print country overview\n    firstparagraph = re.sub(r\"[\\(\\[].*?[\\)\\]]\", \"\", text[1])\n    firstparagraph_split = firstparagraph.split(\".\")\n    print(firstparagraph)\n    economyparagraph_clean = \"The Wikipedia page for \" + countryname + \" is set up unusually.\"\nelse:\n    for sib in economy.find_next_siblings():\n        if sib.name==\"h3\":\n            break\n        else:\n            paragraph = sib.text\n            alleconomy.append(paragraph)\n            economyparagraph = \" \".join(str(e) for e in alleconomy)\n            economyparagraph_clean = re.sub(r\"[\\(\\[].*?[\\)\\]]\", \"\", economyparagraph)\n            economyparagraph_split = economyparagraph_clean.split(\".\")\n    print(economyparagraph_clean)\n",
   "execution_count": null,
   "outputs": [
    {
     "name": "stdout",
     "text": "Scraping from: https://en.wikipedia.org/wiki/Guatemala\nCountry Overview:\nThe Wikipedia page for Guatemala is set up unusually.\nEconomic Overview:\nThe economy of Guatemala is a considered a developing economy, highly dependent on agriculture, particularly on traditional crops such as coffee, sugar, and bananas. Guatemala's GDP per capita is roughly one-third of Brazil's. The Guatemalan economy is the largest in Central America. It grew 3.3 percent on average from 2015 to 2018. However, Guatemala remains one of the poorest countries in Latin America and the Caribbean, having highly unequal incomes and chronically malnourished children. The country is beset by political insecurity, and lacks skilled workers and infrastructure. It depends on remittances for nearly one-tenth of the GDP.\n\n",
     "output_type": "stream"
    }
   ]
  },
  {
   "cell_type": "markdown",
   "source": "The following piece of code (Block 5) outputs simple statistics for your chosen country over the last 10 years — specifically, the mean, median, standard deviation, maximum, and minimum values for your chosen indicators, rounded to 4 decimal places. It  does this in both table and text form. ",
   "metadata": {
    "cell_id": "7c6d883a335c4ababab79295244ffd2d",
    "tags": [],
    "deepnote_cell_type": "markdown",
    "deepnote_cell_height": 96
   }
  },
  {
   "cell_type": "code",
   "metadata": {
    "cell_id": "53638effdf994a8c805d60e7352deec6",
    "tags": [],
    "deepnote_to_be_reexecuted": false,
    "source_hash": "13bb772b",
    "execution_start": 1651605495319,
    "execution_millis": 195,
    "deepnote_table_state": {
     "pageSize": 10,
     "pageIndex": 7,
     "filters": [],
     "sortBy": []
    },
    "deepnote_table_loading": false,
    "deepnote_cell_type": "code",
    "deepnote_cell_height": 1321,
    "deepnote_output_heights": [
     148
    ]
   },
   "source": "# CODE BLOCK #5: SIMPLE STATISTICS\nimport warnings\nwarnings.simplefilter(action='ignore', category=FutureWarning)\n\ncountryname = CountryCodeGLOBALVAR\nVARLIST = WBVars\nVARLISTNAMES = WBNames\nNumYears = 10 # looking for the past 10 years\n\ndf = wb.data.DataFrame(VARLIST, countryname, mrv=10) # our dataframe\n\n# our statistics \nstatistics = ['mean', 'median', 'standard deviation', 'minimum', 'maximum']\n\n# computing statistics\nstats = df.copy(deep=True)\nstats['mean'] = df.mean(axis=1)\nstats['median'] = df.median(axis=1)\nstats['standard deviation'] = df.std(axis=1)\nstats['maximum'] = df.max(axis=1)\nstats['minimum'] = df.min(axis=1)\n\nTable = stats.drop(stats.columns[[range(NumYears)]], axis=1)\n\nfor i in range(len(VARLIST)):\n    Table.rename(index = {VARLIST[i]: VARLISTNAMES[i]}, inplace = True)\n\ndisplay(Table)\n\nprint(f\"Over the last {len(df.columns)} years: \")\nfor i in range(len(VARLIST)):\n    for j in range(len(statistics)):\n        if pd.isnull(stats.at[VARLIST[i], statistics[j]]):\n            print(f\"The {statistics[j]} of {codes[countryname]}'s {VARLISTNAMES[i]} is unavailable due to lack of data.\")\n        else:\n            print(f\"The {statistics[j]} of {codes[countryname]}'s {VARLISTNAMES[i]} is {round(stats.at[VARLIST[i], statistics[j]],4)}.\")",
   "execution_count": null,
   "outputs": [
    {
     "data": {
      "text/plain": "                               mean        median  standard deviation  \\\nGDP                    6.350463e+10  6.411996e+10        1.136601e+10   \nrefugee population     2.746000e+02  2.585000e+02        1.211218e+02   \ninfant mortality rate  2.353000e+01  2.330000e+01        2.523688e+00   \npopulation             1.569456e+07  1.569755e+07        7.872757e+05   \n\n                            maximum       minimum  \nGDP                    7.760463e+10  4.687611e+10  \nrefugee population     4.620000e+02  1.480000e+02  \ninfant mortality rate  2.760000e+01  2.010000e+01  \npopulation             1.685833e+07  1.452152e+07  ",
      "text/html": "<div>\n<style scoped>\n    .dataframe tbody tr th:only-of-type {\n        vertical-align: middle;\n    }\n\n    .dataframe tbody tr th {\n        vertical-align: top;\n    }\n\n    .dataframe thead th {\n        text-align: right;\n    }\n</style>\n<table border=\"1\" class=\"dataframe\">\n  <thead>\n    <tr style=\"text-align: right;\">\n      <th></th>\n      <th>mean</th>\n      <th>median</th>\n      <th>standard deviation</th>\n      <th>maximum</th>\n      <th>minimum</th>\n    </tr>\n  </thead>\n  <tbody>\n    <tr>\n      <th>GDP</th>\n      <td>6.350463e+10</td>\n      <td>6.411996e+10</td>\n      <td>1.136601e+10</td>\n      <td>7.760463e+10</td>\n      <td>4.687611e+10</td>\n    </tr>\n    <tr>\n      <th>refugee population</th>\n      <td>2.746000e+02</td>\n      <td>2.585000e+02</td>\n      <td>1.211218e+02</td>\n      <td>4.620000e+02</td>\n      <td>1.480000e+02</td>\n    </tr>\n    <tr>\n      <th>infant mortality rate</th>\n      <td>2.353000e+01</td>\n      <td>2.330000e+01</td>\n      <td>2.523688e+00</td>\n      <td>2.760000e+01</td>\n      <td>2.010000e+01</td>\n    </tr>\n    <tr>\n      <th>population</th>\n      <td>1.569456e+07</td>\n      <td>1.569755e+07</td>\n      <td>7.872757e+05</td>\n      <td>1.685833e+07</td>\n      <td>1.452152e+07</td>\n    </tr>\n  </tbody>\n</table>\n</div>"
     },
     "metadata": {},
     "output_type": "display_data"
    },
    {
     "name": "stdout",
     "text": "Over the last 10 years: \nThe mean of Guatemala's GDP is 63504629359.3733.\nThe median of Guatemala's GDP is 64119955812.3786.\nThe standard deviation of Guatemala's GDP is 11366006300.5104.\nThe minimum of Guatemala's GDP is 46876114650.4996.\nThe maximum of Guatemala's GDP is 77604632170.5853.\nThe mean of Guatemala's population is 15694559.0.\nThe median of Guatemala's population is 15697554.5.\nThe standard deviation of Guatemala's population is 787275.6948.\nThe minimum of Guatemala's population is 14521515.0.\nThe maximum of Guatemala's population is 16858333.0.\nThe mean of Guatemala's refugee population is 274.6.\nThe median of Guatemala's refugee population is 258.5.\nThe standard deviation of Guatemala's refugee population is 121.1218.\nThe minimum of Guatemala's refugee population is 148.0.\nThe maximum of Guatemala's refugee population is 462.0.\nThe mean of Guatemala's infant mortality rate is 23.53.\nThe median of Guatemala's infant mortality rate is 23.3.\nThe standard deviation of Guatemala's infant mortality rate is 2.5237.\nThe minimum of Guatemala's infant mortality rate is 20.1.\nThe maximum of Guatemala's infant mortality rate is 27.6.\n",
     "output_type": "stream"
    }
   ]
  },
  {
   "cell_type": "markdown",
   "source": "In Block 6, we ask how many years of data the user wants and put that data (GDP, population, and land area) into a dataframe, which is then displayed to the user.",
   "metadata": {
    "cell_id": "880c2ea346f9413e8ce58d7ce40c13d3",
    "tags": [],
    "deepnote_cell_type": "markdown",
    "deepnote_cell_height": 74
   }
  },
  {
   "cell_type": "code",
   "metadata": {
    "cell_id": "aff5e4a5fcee4d4f91554e6e82f4cff3",
    "tags": [],
    "deepnote_to_be_reexecuted": false,
    "source_hash": "9d1523ff",
    "execution_start": 1651605498827,
    "execution_millis": 3772,
    "deepnote_cell_type": "code",
    "deepnote_cell_height": 691
   },
   "source": "# BLOCK #6\n\ndef yearRangeInput(question):\n    while True:\n        yearRangeInput = input(question)\n        try:\n            yearRange = int(float(yearRangeInput))\n            assert(yearRange > 0 and yearRange < 40)\n            break\n        except AssertionError:\n            print(\"This is not a valid answer. Please type a value between 1 and 40.\") \n        except ValueError:\n            print(\"That is not a number. Please type a value between 1 and 40.\") \n    return yearRange\n\nyearRange = yearRangeInput(f\"How many years of recent data would you like (b/t 1-40): \")\n\n# yearRange = int(input('How many years of recent data would you like (b/t 1-40): '))\n\ndf = wb.data.DataFrame([GDP, POP, LAND], CountryCodeGLOBALVAR, mrv=yearRange)\n#range(startYear, endYear)\ndisplay(df)",
   "execution_count": null,
   "outputs": [
    {
     "data": {
      "application/vnd.deepnote.dataframe.v3+json": {
       "column_count": 20,
       "row_count": 3,
       "columns": [
        {
         "name": "YR2002",
         "dtype": "float64",
         "stats": {
          "unique_count": 3,
          "nan_count": 0,
          "min": "107160.0",
          "max": "20444205991.025",
          "histogram": [
           {
            "bin_start": 107160,
            "bin_end": 2044517043.1025002,
            "count": 2
           },
           {
            "bin_start": 2044517043.1025002,
            "bin_end": 4088926926.2050004,
            "count": 0
           },
           {
            "bin_start": 4088926926.2050004,
            "bin_end": 6133336809.307501,
            "count": 0
           },
           {
            "bin_start": 6133336809.307501,
            "bin_end": 8177746692.410001,
            "count": 0
           },
           {
            "bin_start": 8177746692.410001,
            "bin_end": 10222156575.5125,
            "count": 0
           },
           {
            "bin_start": 10222156575.5125,
            "bin_end": 12266566458.615002,
            "count": 0
           },
           {
            "bin_start": 12266566458.615002,
            "bin_end": 14310976341.7175,
            "count": 0
           },
           {
            "bin_start": 14310976341.7175,
            "bin_end": 16355386224.820002,
            "count": 0
           },
           {
            "bin_start": 16355386224.820002,
            "bin_end": 18399796107.9225,
            "count": 0
           },
           {
            "bin_start": 18399796107.9225,
            "bin_end": 20444205991.025,
            "count": 1
           }
          ]
         }
        },
        {
         "name": "YR2003",
         "dtype": "float64",
         "stats": {
          "unique_count": 3,
          "nan_count": 0,
          "min": "107160.0",
          "max": "21576351798.9145",
          "histogram": [
           {
            "bin_start": 107160,
            "bin_end": 2157731623.89145,
            "count": 2
           },
           {
            "bin_start": 2157731623.89145,
            "bin_end": 4315356087.7829,
            "count": 0
           },
           {
            "bin_start": 4315356087.7829,
            "bin_end": 6472980551.67435,
            "count": 0
           },
           {
            "bin_start": 6472980551.67435,
            "bin_end": 8630605015.5658,
            "count": 0
           },
           {
            "bin_start": 8630605015.5658,
            "bin_end": 10788229479.457249,
            "count": 0
           },
           {
            "bin_start": 10788229479.457249,
            "bin_end": 12945853943.3487,
            "count": 0
           },
           {
            "bin_start": 12945853943.3487,
            "bin_end": 15103478407.24015,
            "count": 0
           },
           {
            "bin_start": 15103478407.24015,
            "bin_end": 17261102871.1316,
            "count": 0
           },
           {
            "bin_start": 17261102871.1316,
            "bin_end": 19418727335.02305,
            "count": 0
           },
           {
            "bin_start": 19418727335.02305,
            "bin_end": 21576351798.9145,
            "count": 1
           }
          ]
         }
        },
        {
         "name": "YR2004",
         "dtype": "float64",
         "stats": {
          "unique_count": 3,
          "nan_count": 0,
          "min": "107160.0",
          "max": "23577286226.6407",
          "histogram": [
           {
            "bin_start": 107160,
            "bin_end": 2357825066.66407,
            "count": 2
           },
           {
            "bin_start": 2357825066.66407,
            "bin_end": 4715542973.32814,
            "count": 0
           },
           {
            "bin_start": 4715542973.32814,
            "bin_end": 7073260879.99221,
            "count": 0
           },
           {
            "bin_start": 7073260879.99221,
            "bin_end": 9430978786.65628,
            "count": 0
           },
           {
            "bin_start": 9430978786.65628,
            "bin_end": 11788696693.32035,
            "count": 0
           },
           {
            "bin_start": 11788696693.32035,
            "bin_end": 14146414599.98442,
            "count": 0
           },
           {
            "bin_start": 14146414599.98442,
            "bin_end": 16504132506.64849,
            "count": 0
           },
           {
            "bin_start": 16504132506.64849,
            "bin_end": 18861850413.31256,
            "count": 0
           },
           {
            "bin_start": 18861850413.31256,
            "bin_end": 21219568319.97663,
            "count": 0
           },
           {
            "bin_start": 21219568319.97663,
            "bin_end": 23577286226.6407,
            "count": 1
           }
          ]
         }
        },
        {
         "name": "YR2005",
         "dtype": "float64",
         "stats": {
          "unique_count": 3,
          "nan_count": 0,
          "min": "107160.0",
          "max": "26783543667.064",
          "histogram": [
           {
            "bin_start": 107160,
            "bin_end": 2678450810.7064,
            "count": 2
           },
           {
            "bin_start": 2678450810.7064,
            "bin_end": 5356794461.4128,
            "count": 0
           },
           {
            "bin_start": 5356794461.4128,
            "bin_end": 8035138112.1192,
            "count": 0
           },
           {
            "bin_start": 8035138112.1192,
            "bin_end": 10713481762.8256,
            "count": 0
           },
           {
            "bin_start": 10713481762.8256,
            "bin_end": 13391825413.532,
            "count": 0
           },
           {
            "bin_start": 13391825413.532,
            "bin_end": 16070169064.2384,
            "count": 0
           },
           {
            "bin_start": 16070169064.2384,
            "bin_end": 18748512714.9448,
            "count": 0
           },
           {
            "bin_start": 18748512714.9448,
            "bin_end": 21426856365.6512,
            "count": 0
           },
           {
            "bin_start": 21426856365.6512,
            "bin_end": 24105200016.357597,
            "count": 0
           },
           {
            "bin_start": 24105200016.357597,
            "bin_end": 26783543667.064,
            "count": 1
           }
          ]
         }
        },
        {
         "name": "YR2006",
         "dtype": "float64",
         "stats": {
          "unique_count": 3,
          "nan_count": 0,
          "min": "107160.0",
          "max": "29744368110.9094",
          "histogram": [
           {
            "bin_start": 107160,
            "bin_end": 2974533255.09094,
            "count": 2
           },
           {
            "bin_start": 2974533255.09094,
            "bin_end": 5948959350.18188,
            "count": 0
           },
           {
            "bin_start": 5948959350.18188,
            "bin_end": 8923385445.27282,
            "count": 0
           },
           {
            "bin_start": 8923385445.27282,
            "bin_end": 11897811540.36376,
            "count": 0
           },
           {
            "bin_start": 11897811540.36376,
            "bin_end": 14872237635.4547,
            "count": 0
           },
           {
            "bin_start": 14872237635.4547,
            "bin_end": 17846663730.54564,
            "count": 0
           },
           {
            "bin_start": 17846663730.54564,
            "bin_end": 20821089825.63658,
            "count": 0
           },
           {
            "bin_start": 20821089825.63658,
            "bin_end": 23795515920.72752,
            "count": 0
           },
           {
            "bin_start": 23795515920.72752,
            "bin_end": 26769942015.81846,
            "count": 0
           },
           {
            "bin_start": 26769942015.81846,
            "bin_end": 29744368110.9094,
            "count": 1
           }
          ]
         }
        },
        {
         "name": "YR2007",
         "dtype": "float64",
         "stats": {
          "unique_count": 3,
          "nan_count": 0,
          "min": "107160.0",
          "max": "33567868322.6252",
          "histogram": [
           {
            "bin_start": 107160,
            "bin_end": 3356883276.26252,
            "count": 2
           },
           {
            "bin_start": 3356883276.26252,
            "bin_end": 6713659392.52504,
            "count": 0
           },
           {
            "bin_start": 6713659392.52504,
            "bin_end": 10070435508.78756,
            "count": 0
           },
           {
            "bin_start": 10070435508.78756,
            "bin_end": 13427211625.05008,
            "count": 0
           },
           {
            "bin_start": 13427211625.05008,
            "bin_end": 16783987741.3126,
            "count": 0
           },
           {
            "bin_start": 16783987741.3126,
            "bin_end": 20140763857.57512,
            "count": 0
           },
           {
            "bin_start": 20140763857.57512,
            "bin_end": 23497539973.83764,
            "count": 0
           },
           {
            "bin_start": 23497539973.83764,
            "bin_end": 26854316090.10016,
            "count": 0
           },
           {
            "bin_start": 26854316090.10016,
            "bin_end": 30211092206.36268,
            "count": 0
           },
           {
            "bin_start": 30211092206.36268,
            "bin_end": 33567868322.6252,
            "count": 1
           }
          ]
         }
        },
        {
         "name": "YR2008",
         "dtype": "float64",
         "stats": {
          "unique_count": 3,
          "nan_count": 0,
          "min": "107160.0",
          "max": "38503862830.6878",
          "histogram": [
           {
            "bin_start": 107160,
            "bin_end": 3850482727.06878,
            "count": 2
           },
           {
            "bin_start": 3850482727.06878,
            "bin_end": 7700858294.13756,
            "count": 0
           },
           {
            "bin_start": 7700858294.13756,
            "bin_end": 11551233861.20634,
            "count": 0
           },
           {
            "bin_start": 11551233861.20634,
            "bin_end": 15401609428.27512,
            "count": 0
           },
           {
            "bin_start": 15401609428.27512,
            "bin_end": 19251984995.3439,
            "count": 0
           },
           {
            "bin_start": 19251984995.3439,
            "bin_end": 23102360562.41268,
            "count": 0
           },
           {
            "bin_start": 23102360562.41268,
            "bin_end": 26952736129.48146,
            "count": 0
           },
           {
            "bin_start": 26952736129.48146,
            "bin_end": 30803111696.55024,
            "count": 0
           },
           {
            "bin_start": 30803111696.55024,
            "bin_end": 34653487263.61902,
            "count": 0
           },
           {
            "bin_start": 34653487263.61902,
            "bin_end": 38503862830.6878,
            "count": 1
           }
          ]
         }
        },
        {
         "name": "YR2009",
         "dtype": "float64",
         "stats": {
          "unique_count": 3,
          "nan_count": 0,
          "min": "107160.0",
          "max": "37125943564.9873",
          "histogram": [
           {
            "bin_start": 107160,
            "bin_end": 3712690800.4987297,
            "count": 2
           },
           {
            "bin_start": 3712690800.4987297,
            "bin_end": 7425274440.997459,
            "count": 0
           },
           {
            "bin_start": 7425274440.997459,
            "bin_end": 11137858081.49619,
            "count": 0
           },
           {
            "bin_start": 11137858081.49619,
            "bin_end": 14850441721.994919,
            "count": 0
           },
           {
            "bin_start": 14850441721.994919,
            "bin_end": 18563025362.49365,
            "count": 0
           },
           {
            "bin_start": 18563025362.49365,
            "bin_end": 22275609002.99238,
            "count": 0
           },
           {
            "bin_start": 22275609002.99238,
            "bin_end": 25988192643.491108,
            "count": 0
           },
           {
            "bin_start": 25988192643.491108,
            "bin_end": 29700776283.989838,
            "count": 0
           },
           {
            "bin_start": 29700776283.989838,
            "bin_end": 33413359924.488567,
            "count": 0
           },
           {
            "bin_start": 33413359924.488567,
            "bin_end": 37125943564.9873,
            "count": 1
           }
          ]
         }
        },
        {
         "name": "YR2010",
         "dtype": "float64",
         "stats": {
          "unique_count": 3,
          "nan_count": 0,
          "min": "107160.0",
          "max": "40676432028.5934",
          "histogram": [
           {
            "bin_start": 107160,
            "bin_end": 4067739646.8593397,
            "count": 2
           },
           {
            "bin_start": 4067739646.8593397,
            "bin_end": 8135372133.718679,
            "count": 0
           },
           {
            "bin_start": 8135372133.718679,
            "bin_end": 12203004620.578018,
            "count": 0
           },
           {
            "bin_start": 12203004620.578018,
            "bin_end": 16270637107.437359,
            "count": 0
           },
           {
            "bin_start": 16270637107.437359,
            "bin_end": 20338269594.2967,
            "count": 0
           },
           {
            "bin_start": 20338269594.2967,
            "bin_end": 24405902081.156036,
            "count": 0
           },
           {
            "bin_start": 24405902081.156036,
            "bin_end": 28473534568.015377,
            "count": 0
           },
           {
            "bin_start": 28473534568.015377,
            "bin_end": 32541167054.874718,
            "count": 0
           },
           {
            "bin_start": 32541167054.874718,
            "bin_end": 36608799541.734055,
            "count": 0
           },
           {
            "bin_start": 36608799541.734055,
            "bin_end": 40676432028.5934,
            "count": 1
           }
          ]
         }
        },
        {
         "name": "YR2011",
         "dtype": "float64",
         "stats": {
          "unique_count": 3,
          "nan_count": 0,
          "min": "107160.0",
          "max": "46876114650.4996",
          "histogram": [
           {
            "bin_start": 107160,
            "bin_end": 4687707909.04996,
            "count": 2
           },
           {
            "bin_start": 4687707909.04996,
            "bin_end": 9375308658.09992,
            "count": 0
           },
           {
            "bin_start": 9375308658.09992,
            "bin_end": 14062909407.14988,
            "count": 0
           },
           {
            "bin_start": 14062909407.14988,
            "bin_end": 18750510156.19984,
            "count": 0
           },
           {
            "bin_start": 18750510156.19984,
            "bin_end": 23438110905.2498,
            "count": 0
           },
           {
            "bin_start": 23438110905.2498,
            "bin_end": 28125711654.29976,
            "count": 0
           },
           {
            "bin_start": 28125711654.29976,
            "bin_end": 32813312403.34972,
            "count": 0
           },
           {
            "bin_start": 32813312403.34972,
            "bin_end": 37500913152.39968,
            "count": 0
           },
           {
            "bin_start": 37500913152.39968,
            "bin_end": 42188513901.44964,
            "count": 0
           },
           {
            "bin_start": 42188513901.44964,
            "bin_end": 46876114650.4996,
            "count": 1
           }
          ]
         }
        },
        {
         "name": "YR2012",
         "dtype": "float64",
         "stats": {
          "unique_count": 3,
          "nan_count": 0,
          "min": "107160.0",
          "max": "49593961141.7484",
          "histogram": [
           {
            "bin_start": 107160,
            "bin_end": 4959492558.17484,
            "count": 2
           },
           {
            "bin_start": 4959492558.17484,
            "bin_end": 9918877956.34968,
            "count": 0
           },
           {
            "bin_start": 9918877956.34968,
            "bin_end": 14878263354.52452,
            "count": 0
           },
           {
            "bin_start": 14878263354.52452,
            "bin_end": 19837648752.69936,
            "count": 0
           },
           {
            "bin_start": 19837648752.69936,
            "bin_end": 24797034150.8742,
            "count": 0
           },
           {
            "bin_start": 24797034150.8742,
            "bin_end": 29756419549.04904,
            "count": 0
           },
           {
            "bin_start": 29756419549.04904,
            "bin_end": 34715804947.22388,
            "count": 0
           },
           {
            "bin_start": 34715804947.22388,
            "bin_end": 39675190345.39872,
            "count": 0
           },
           {
            "bin_start": 39675190345.39872,
            "bin_end": 44634575743.57356,
            "count": 0
           },
           {
            "bin_start": 44634575743.57356,
            "bin_end": 49593961141.7484,
            "count": 1
           }
          ]
         }
        },
        {
         "name": "YR2013",
         "dtype": "float64",
         "stats": {
          "unique_count": 3,
          "nan_count": 0,
          "min": "107160.0",
          "max": "52996540703.5943",
          "histogram": [
           {
            "bin_start": 107160,
            "bin_end": 5299750514.35943,
            "count": 2
           },
           {
            "bin_start": 5299750514.35943,
            "bin_end": 10599393868.71886,
            "count": 0
           },
           {
            "bin_start": 10599393868.71886,
            "bin_end": 15899037223.07829,
            "count": 0
           },
           {
            "bin_start": 15899037223.07829,
            "bin_end": 21198680577.43772,
            "count": 0
           },
           {
            "bin_start": 21198680577.43772,
            "bin_end": 26498323931.79715,
            "count": 0
           },
           {
            "bin_start": 26498323931.79715,
            "bin_end": 31797967286.15658,
            "count": 0
           },
           {
            "bin_start": 31797967286.15658,
            "bin_end": 37097610640.516014,
            "count": 0
           },
           {
            "bin_start": 37097610640.516014,
            "bin_end": 42397253994.87544,
            "count": 0
           },
           {
            "bin_start": 42397253994.87544,
            "bin_end": 47696897349.23487,
            "count": 0
           },
           {
            "bin_start": 47696897349.23487,
            "bin_end": 52996540703.5943,
            "count": 1
           }
          ]
         }
        },
        {
         "name": "YR2014",
         "dtype": "float64",
         "stats": {
          "unique_count": 3,
          "nan_count": 0,
          "min": "107160.0",
          "max": "57852399963.7878",
          "histogram": [
           {
            "bin_start": 107160,
            "bin_end": 5785336440.37878,
            "count": 2
           },
           {
            "bin_start": 5785336440.37878,
            "bin_end": 11570565720.75756,
            "count": 0
           },
           {
            "bin_start": 11570565720.75756,
            "bin_end": 17355795001.13634,
            "count": 0
           },
           {
            "bin_start": 17355795001.13634,
            "bin_end": 23141024281.51512,
            "count": 0
           },
           {
            "bin_start": 23141024281.51512,
            "bin_end": 28926253561.8939,
            "count": 0
           },
           {
            "bin_start": 28926253561.8939,
            "bin_end": 34711482842.27268,
            "count": 0
           },
           {
            "bin_start": 34711482842.27268,
            "bin_end": 40496712122.65146,
            "count": 0
           },
           {
            "bin_start": 40496712122.65146,
            "bin_end": 46281941403.03024,
            "count": 0
           },
           {
            "bin_start": 46281941403.03024,
            "bin_end": 52067170683.40903,
            "count": 0
           },
           {
            "bin_start": 52067170683.40903,
            "bin_end": 57852399963.7878,
            "count": 1
           }
          ]
         }
        },
        {
         "name": "YR2015",
         "dtype": "float64",
         "stats": {
          "unique_count": 3,
          "nan_count": 0,
          "min": "107160.0",
          "max": "62186186575.7433",
          "histogram": [
           {
            "bin_start": 107160,
            "bin_end": 6218715101.57433,
            "count": 2
           },
           {
            "bin_start": 6218715101.57433,
            "bin_end": 12437323043.14866,
            "count": 0
           },
           {
            "bin_start": 12437323043.14866,
            "bin_end": 18655930984.722992,
            "count": 0
           },
           {
            "bin_start": 18655930984.722992,
            "bin_end": 24874538926.29732,
            "count": 0
           },
           {
            "bin_start": 24874538926.29732,
            "bin_end": 31093146867.87165,
            "count": 0
           },
           {
            "bin_start": 31093146867.87165,
            "bin_end": 37311754809.445984,
            "count": 0
           },
           {
            "bin_start": 37311754809.445984,
            "bin_end": 43530362751.02031,
            "count": 0
           },
           {
            "bin_start": 43530362751.02031,
            "bin_end": 49748970692.59464,
            "count": 0
           },
           {
            "bin_start": 49748970692.59464,
            "bin_end": 55967578634.168976,
            "count": 0
           },
           {
            "bin_start": 55967578634.168976,
            "bin_end": 62186186575.7433,
            "count": 1
           }
          ]
         }
        },
        {
         "name": "YR2016",
         "dtype": "float64",
         "stats": {
          "unique_count": 3,
          "nan_count": 0,
          "min": "107160.0",
          "max": "66053725049.0138",
          "histogram": [
           {
            "bin_start": 107160,
            "bin_end": 6605468948.901381,
            "count": 2
           },
           {
            "bin_start": 6605468948.901381,
            "bin_end": 13210830737.802761,
            "count": 0
           },
           {
            "bin_start": 13210830737.802761,
            "bin_end": 19816192526.70414,
            "count": 0
           },
           {
            "bin_start": 19816192526.70414,
            "bin_end": 26421554315.605522,
            "count": 0
           },
           {
            "bin_start": 26421554315.605522,
            "bin_end": 33026916104.506905,
            "count": 0
           },
           {
            "bin_start": 33026916104.506905,
            "bin_end": 39632277893.40828,
            "count": 0
           },
           {
            "bin_start": 39632277893.40828,
            "bin_end": 46237639682.30966,
            "count": 0
           },
           {
            "bin_start": 46237639682.30966,
            "bin_end": 52843001471.211044,
            "count": 0
           },
           {
            "bin_start": 52843001471.211044,
            "bin_end": 59448363260.11243,
            "count": 0
           },
           {
            "bin_start": 59448363260.11243,
            "bin_end": 66053725049.0138,
            "count": 1
           }
          ]
         }
        },
        {
         "name": "YR2017",
         "dtype": "float64",
         "stats": {
          "unique_count": 3,
          "nan_count": 0,
          "min": "107160.0",
          "max": "71654134378.5299",
          "histogram": [
           {
            "bin_start": 107160,
            "bin_end": 7165509881.852991,
            "count": 2
           },
           {
            "bin_start": 7165509881.852991,
            "bin_end": 14330912603.705982,
            "count": 0
           },
           {
            "bin_start": 14330912603.705982,
            "bin_end": 21496315325.558975,
            "count": 0
           },
           {
            "bin_start": 21496315325.558975,
            "bin_end": 28661718047.411964,
            "count": 0
           },
           {
            "bin_start": 28661718047.411964,
            "bin_end": 35827120769.26495,
            "count": 0
           },
           {
            "bin_start": 35827120769.26495,
            "bin_end": 42992523491.11795,
            "count": 0
           },
           {
            "bin_start": 42992523491.11795,
            "bin_end": 50157926212.97094,
            "count": 0
           },
           {
            "bin_start": 50157926212.97094,
            "bin_end": 57323328934.82393,
            "count": 0
           },
           {
            "bin_start": 57323328934.82393,
            "bin_end": 64488731656.67692,
            "count": 0
           },
           {
            "bin_start": 64488731656.67692,
            "bin_end": 71654134378.5299,
            "count": 1
           }
          ]
         }
        },
        {
         "name": "YR2018",
         "dtype": "float64",
         "stats": {
          "unique_count": 3,
          "nan_count": 0,
          "min": "107160.0",
          "max": "73208583758.9105",
          "histogram": [
           {
            "bin_start": 107160,
            "bin_end": 7320954819.89105,
            "count": 2
           },
           {
            "bin_start": 7320954819.89105,
            "bin_end": 14641802479.7821,
            "count": 0
           },
           {
            "bin_start": 14641802479.7821,
            "bin_end": 21962650139.67315,
            "count": 0
           },
           {
            "bin_start": 21962650139.67315,
            "bin_end": 29283497799.5642,
            "count": 0
           },
           {
            "bin_start": 29283497799.5642,
            "bin_end": 36604345459.45525,
            "count": 0
           },
           {
            "bin_start": 36604345459.45525,
            "bin_end": 43925193119.3463,
            "count": 0
           },
           {
            "bin_start": 43925193119.3463,
            "bin_end": 51246040779.23735,
            "count": 0
           },
           {
            "bin_start": 51246040779.23735,
            "bin_end": 58566888439.1284,
            "count": 0
           },
           {
            "bin_start": 58566888439.1284,
            "bin_end": 65887736099.019455,
            "count": 0
           },
           {
            "bin_start": 65887736099.019455,
            "bin_end": 73208583758.9105,
            "count": 1
           }
          ]
         }
        },
        {
         "name": "YR2019",
         "dtype": "float64",
         "stats": {
          "unique_count": 3,
          "nan_count": 0,
          "min": "107160.0",
          "max": "77020015201.3201",
          "histogram": [
           {
            "bin_start": 107160,
            "bin_end": 7702097964.1320095,
            "count": 2
           },
           {
            "bin_start": 7702097964.1320095,
            "bin_end": 15404088768.264019,
            "count": 0
           },
           {
            "bin_start": 15404088768.264019,
            "bin_end": 23106079572.396027,
            "count": 0
           },
           {
            "bin_start": 23106079572.396027,
            "bin_end": 30808070376.528038,
            "count": 0
           },
           {
            "bin_start": 30808070376.528038,
            "bin_end": 38510061180.66005,
            "count": 0
           },
           {
            "bin_start": 38510061180.66005,
            "bin_end": 46212051984.79205,
            "count": 0
           },
           {
            "bin_start": 46212051984.79205,
            "bin_end": 53914042788.924065,
            "count": 0
           },
           {
            "bin_start": 53914042788.924065,
            "bin_end": 61616033593.056076,
            "count": 0
           },
           {
            "bin_start": 61616033593.056076,
            "bin_end": 69318024397.18808,
            "count": 0
           },
           {
            "bin_start": 69318024397.18808,
            "bin_end": 77020015201.3201,
            "count": 1
           }
          ]
         }
        },
        {
         "name": "YR2020",
         "dtype": "float64",
         "stats": {
          "unique_count": 3,
          "nan_count": 0,
          "min": "107160.0",
          "max": "77604632170.5853",
          "histogram": [
           {
            "bin_start": 107160,
            "bin_end": 7760559661.05853,
            "count": 2
           },
           {
            "bin_start": 7760559661.05853,
            "bin_end": 15521012162.11706,
            "count": 0
           },
           {
            "bin_start": 15521012162.11706,
            "bin_end": 23281464663.17559,
            "count": 0
           },
           {
            "bin_start": 23281464663.17559,
            "bin_end": 31041917164.23412,
            "count": 0
           },
           {
            "bin_start": 31041917164.23412,
            "bin_end": 38802369665.29265,
            "count": 0
           },
           {
            "bin_start": 38802369665.29265,
            "bin_end": 46562822166.35118,
            "count": 0
           },
           {
            "bin_start": 46562822166.35118,
            "bin_end": 54323274667.409706,
            "count": 0
           },
           {
            "bin_start": 54323274667.409706,
            "bin_end": 62083727168.46824,
            "count": 0
           },
           {
            "bin_start": 62083727168.46824,
            "bin_end": 69844179669.52676,
            "count": 0
           },
           {
            "bin_start": 69844179669.52676,
            "bin_end": 77604632170.5853,
            "count": 1
           }
          ]
         }
        },
        {
         "name": "YR2021",
         "dtype": "float64",
         "stats": {
          "unique_count": 1,
          "nan_count": 2,
          "min": "107160.0",
          "max": "107160.0",
          "histogram": [
           {
            "bin_start": 107159.5,
            "bin_end": 107159.6,
            "count": 0
           },
           {
            "bin_start": 107159.6,
            "bin_end": 107159.7,
            "count": 0
           },
           {
            "bin_start": 107159.7,
            "bin_end": 107159.8,
            "count": 0
           },
           {
            "bin_start": 107159.8,
            "bin_end": 107159.9,
            "count": 0
           },
           {
            "bin_start": 107159.9,
            "bin_end": 107160,
            "count": 0
           },
           {
            "bin_start": 107160,
            "bin_end": 107160.1,
            "count": 1
           },
           {
            "bin_start": 107160.1,
            "bin_end": 107160.2,
            "count": 0
           },
           {
            "bin_start": 107160.2,
            "bin_end": 107160.3,
            "count": 0
           },
           {
            "bin_start": 107160.3,
            "bin_end": 107160.4,
            "count": 0
           },
           {
            "bin_start": 107160.4,
            "bin_end": 107160.5,
            "count": 0
           }
          ]
         }
        },
        {
         "name": "_deepnote_index_column",
         "dtype": "object"
        }
       ],
       "rows": [
        {
         "YR2002": 107160,
         "YR2003": 107160,
         "YR2004": 107160,
         "YR2005": 107160,
         "YR2006": 107160,
         "YR2007": 107160,
         "YR2008": 107160,
         "YR2009": 107160,
         "YR2010": 107160,
         "YR2011": 107160,
         "YR2012": 107160,
         "YR2013": 107160,
         "YR2014": 107160,
         "YR2015": 107160,
         "YR2016": 107160,
         "YR2017": 107160,
         "YR2018": 107160,
         "YR2019": 107160,
         "YR2020": 107160,
         "YR2021": 107160,
         "_deepnote_index_column": "AG.LND.TOTL.K2"
        },
        {
         "YR2002": 20444205991.025,
         "YR2003": 21576351798.9145,
         "YR2004": 23577286226.6407,
         "YR2005": 26783543667.064,
         "YR2006": 29744368110.9094,
         "YR2007": 33567868322.6252,
         "YR2008": 38503862830.6878,
         "YR2009": 37125943564.9873,
         "YR2010": 40676432028.5934,
         "YR2011": 46876114650.4996,
         "YR2012": 49593961141.7484,
         "YR2013": 52996540703.5943,
         "YR2014": 57852399963.7878,
         "YR2015": 62186186575.7433,
         "YR2016": 66053725049.0138,
         "YR2017": 71654134378.5299,
         "YR2018": 73208583758.9105,
         "YR2019": 77020015201.3201,
         "YR2020": 77604632170.5853,
         "YR2021": "nan",
         "_deepnote_index_column": "NY.GDP.MKTP.CD"
        },
        {
         "YR2002": 12147518,
         "YR2003": 12415334,
         "YR2004": 12682108,
         "YR2005": 12948292,
         "YR2006": 13213330,
         "YR2007": 13477017,
         "YR2008": 13739299,
         "YR2009": 14000190,
         "YR2010": 14259687,
         "YR2011": 14521515,
         "YR2012": 14781942,
         "YR2013": 15043981,
         "YR2014": 15306316,
         "YR2015": 15567419,
         "YR2016": 15827690,
         "YR2017": 16087418,
         "YR2018": 16346950,
         "YR2019": 16604026,
         "YR2020": 16858333,
         "YR2021": "nan",
         "_deepnote_index_column": "SP.POP.TOTL"
        }
       ]
      },
      "text/plain": "                      YR2002        YR2003        YR2004        YR2005  \\\nAG.LND.TOTL.K2  1.071600e+05  1.071600e+05  1.071600e+05  1.071600e+05   \nNY.GDP.MKTP.CD  2.044421e+10  2.157635e+10  2.357729e+10  2.678354e+10   \nSP.POP.TOTL     1.214752e+07  1.241533e+07  1.268211e+07  1.294829e+07   \n\n                      YR2006        YR2007        YR2008        YR2009  \\\nAG.LND.TOTL.K2  1.071600e+05  1.071600e+05  1.071600e+05  1.071600e+05   \nNY.GDP.MKTP.CD  2.974437e+10  3.356787e+10  3.850386e+10  3.712594e+10   \nSP.POP.TOTL     1.321333e+07  1.347702e+07  1.373930e+07  1.400019e+07   \n\n                      YR2010        YR2011        YR2012        YR2013  \\\nAG.LND.TOTL.K2  1.071600e+05  1.071600e+05  1.071600e+05  1.071600e+05   \nNY.GDP.MKTP.CD  4.067643e+10  4.687611e+10  4.959396e+10  5.299654e+10   \nSP.POP.TOTL     1.425969e+07  1.452152e+07  1.478194e+07  1.504398e+07   \n\n                      YR2014        YR2015        YR2016        YR2017  \\\nAG.LND.TOTL.K2  1.071600e+05  1.071600e+05  1.071600e+05  1.071600e+05   \nNY.GDP.MKTP.CD  5.785240e+10  6.218619e+10  6.605373e+10  7.165413e+10   \nSP.POP.TOTL     1.530632e+07  1.556742e+07  1.582769e+07  1.608742e+07   \n\n                      YR2018        YR2019        YR2020    YR2021  \nAG.LND.TOTL.K2  1.071600e+05  1.071600e+05  1.071600e+05  107160.0  \nNY.GDP.MKTP.CD  7.320858e+10  7.702002e+10  7.760463e+10       NaN  \nSP.POP.TOTL     1.634695e+07  1.660403e+07  1.685833e+07       NaN  ",
      "text/html": "<div>\n<style scoped>\n    .dataframe tbody tr th:only-of-type {\n        vertical-align: middle;\n    }\n\n    .dataframe tbody tr th {\n        vertical-align: top;\n    }\n\n    .dataframe thead th {\n        text-align: right;\n    }\n</style>\n<table border=\"1\" class=\"dataframe\">\n  <thead>\n    <tr style=\"text-align: right;\">\n      <th></th>\n      <th>YR2002</th>\n      <th>YR2003</th>\n      <th>YR2004</th>\n      <th>YR2005</th>\n      <th>YR2006</th>\n      <th>YR2007</th>\n      <th>YR2008</th>\n      <th>YR2009</th>\n      <th>YR2010</th>\n      <th>YR2011</th>\n      <th>YR2012</th>\n      <th>YR2013</th>\n      <th>YR2014</th>\n      <th>YR2015</th>\n      <th>YR2016</th>\n      <th>YR2017</th>\n      <th>YR2018</th>\n      <th>YR2019</th>\n      <th>YR2020</th>\n      <th>YR2021</th>\n    </tr>\n  </thead>\n  <tbody>\n    <tr>\n      <th>AG.LND.TOTL.K2</th>\n      <td>1.071600e+05</td>\n      <td>1.071600e+05</td>\n      <td>1.071600e+05</td>\n      <td>1.071600e+05</td>\n      <td>1.071600e+05</td>\n      <td>1.071600e+05</td>\n      <td>1.071600e+05</td>\n      <td>1.071600e+05</td>\n      <td>1.071600e+05</td>\n      <td>1.071600e+05</td>\n      <td>1.071600e+05</td>\n      <td>1.071600e+05</td>\n      <td>1.071600e+05</td>\n      <td>1.071600e+05</td>\n      <td>1.071600e+05</td>\n      <td>1.071600e+05</td>\n      <td>1.071600e+05</td>\n      <td>1.071600e+05</td>\n      <td>1.071600e+05</td>\n      <td>107160.0</td>\n    </tr>\n    <tr>\n      <th>NY.GDP.MKTP.CD</th>\n      <td>2.044421e+10</td>\n      <td>2.157635e+10</td>\n      <td>2.357729e+10</td>\n      <td>2.678354e+10</td>\n      <td>2.974437e+10</td>\n      <td>3.356787e+10</td>\n      <td>3.850386e+10</td>\n      <td>3.712594e+10</td>\n      <td>4.067643e+10</td>\n      <td>4.687611e+10</td>\n      <td>4.959396e+10</td>\n      <td>5.299654e+10</td>\n      <td>5.785240e+10</td>\n      <td>6.218619e+10</td>\n      <td>6.605373e+10</td>\n      <td>7.165413e+10</td>\n      <td>7.320858e+10</td>\n      <td>7.702002e+10</td>\n      <td>7.760463e+10</td>\n      <td>NaN</td>\n    </tr>\n    <tr>\n      <th>SP.POP.TOTL</th>\n      <td>1.214752e+07</td>\n      <td>1.241533e+07</td>\n      <td>1.268211e+07</td>\n      <td>1.294829e+07</td>\n      <td>1.321333e+07</td>\n      <td>1.347702e+07</td>\n      <td>1.373930e+07</td>\n      <td>1.400019e+07</td>\n      <td>1.425969e+07</td>\n      <td>1.452152e+07</td>\n      <td>1.478194e+07</td>\n      <td>1.504398e+07</td>\n      <td>1.530632e+07</td>\n      <td>1.556742e+07</td>\n      <td>1.582769e+07</td>\n      <td>1.608742e+07</td>\n      <td>1.634695e+07</td>\n      <td>1.660403e+07</td>\n      <td>1.685833e+07</td>\n      <td>NaN</td>\n    </tr>\n  </tbody>\n</table>\n</div>"
     },
     "metadata": {},
     "output_type": "display_data"
    }
   ]
  },
  {
   "cell_type": "markdown",
   "source": "In Block 7, we establish country name for graphing and separate dataframes for different regional/world areas which we will use to graph variables in percentage terms.",
   "metadata": {
    "cell_id": "624cba813dfe40b18bf4a96ca2965f05",
    "tags": [],
    "deepnote_cell_type": "markdown",
    "deepnote_cell_height": 74
   }
  },
  {
   "cell_type": "code",
   "metadata": {
    "cell_id": "dcbfff06037246b791adbfb19b5f2995",
    "tags": [],
    "deepnote_to_be_reexecuted": false,
    "source_hash": "af8e78c2",
    "execution_start": 1651605504825,
    "execution_millis": 773,
    "deepnote_cell_type": "code",
    "deepnote_cell_height": 351
   },
   "source": "# BLOCK 7\n\n# Set global varname for country\ngraphCountry = countryname\n\n# Call and create separate dataframes for aggregate regional areas\ndf_graph = wb.data.DataFrame([GDP, POP, LAND], graphCountry, mrv = yearRange)\nregion_codes = {}\nregion_codes = {\"EAP\", \"ECA\", \"LAC\", \"MENA\", \"SA\", \"SSA\", \"WORLD\"}\ndf_graph_eap = wb.data.DataFrame([GDP, POP, LAND], \"EAP\", mrv = yearRange)\ndf_graph_eca = wb.data.DataFrame([GDP, POP, LAND], \"ECA\", mrv = yearRange)\ndf_graph_lac = wb.data.DataFrame([GDP, POP, LAND], \"LAC\", mrv = yearRange)\ndf_graph_mena = wb.data.DataFrame([GDP, POP, LAND], \"MNA\", mrv = yearRange)\ndf_graph_sa = wb.data.DataFrame([GDP, POP, LAND], \"LCN\", mrv = yearRange)\ndf_graph_ssa = wb.data.DataFrame([GDP, POP, LAND], \"SSA\", mrv = yearRange)\ndf_graph_world = wb.data.DataFrame([GDP, POP, LAND], \"WLD\", mrv = yearRange)",
   "execution_count": null,
   "outputs": []
  },
  {
   "cell_type": "markdown",
   "source": "In Block 8, we call the three variables we got in Block 4 and graph them over time. The user is prompted to select how they would like to see the variable displayed (in absolute terms or as a percentage of the world GDP/population/land area). Then three graphs are displayed to the user.",
   "metadata": {
    "cell_id": "b1a2381763f14efb818114bf8e1ea33a",
    "tags": [],
    "deepnote_cell_type": "markdown",
    "deepnote_cell_height": 96
   }
  },
  {
   "cell_type": "code",
   "metadata": {
    "cell_id": "2d6846eaa373418b856ae6ae62ecdbf6",
    "tags": [],
    "deepnote_to_be_reexecuted": false,
    "source_hash": "236bfba6",
    "execution_start": 1651605507838,
    "execution_millis": 6343,
    "deepnote_cell_type": "code",
    "deepnote_cell_height": 1909,
    "deepnote_output_heights": [
     null,
     280,
     280,
     280
    ]
   },
   "source": "# BLOCK 8\n# Define graph input type\ndef graphTypeInput(question):\n    while True:\n        graphType = input(question)\n        try:\n            assert(graphType == \"absolute\" or graphType == \"Absolute\" or graphType == \"ABSOLUTE\" or graphType == \"percentage\" or graphType == \"Percentage\" or graphType == \"PERCENTAGE\")\n            break\n        except AssertionError:\n            print(\"This is not a valid answer. Please type Absolute or Percentage.\")\n    return graphType\n\n# Create dictionary for user input and corresponding variable code\nvardictSWITCH2 = {\n    \"GDP\": \"NY.GDP.MKTP.CD\",\n    \"POP\": \"SP.POP.TOTL\",\n    \"LAND\": \"AG.LND.TOTL.K2\",\n}\n\n# Create dictionary of readable labels\nvardict2 = {\n    \"NY.GDP.MKTP.CD\": \"GDP\",\n    \"SP.POP.TOTL\": \"Population\",\n    \"AG.LND.TOTL.K2\": \"Land Area\",\n}\n\n# Ask whether graph should be in absolute terms or percentage of world\ngraphType = graphTypeInput(f\"Should the graphs be in absolute or percentage terms? (Absolute/Percentage): \")\n\ngraphVariableOptions = [\"GDP\", \"POP\",\"LAND\"]\n\nfor graphVariable in graphVariableOptions:\n    # Create plot given inputs\n    if graphType == \"Absolute\" or graphType == \"absolute\" or graphType == \"ABSOLUTE\":\n        row = df_graph.loc[vardictSWITCH2[graphVariable]]\n        plt.plot(row)\n        plt.xlabel(\"Year\")\n        plt.ylabel(vardict2[vardictSWITCH2[graphVariable]])\n        plt.title(vardict2[vardictSWITCH2[graphVariable]] + \" for \" + CapitalizedCountryName)\n        plt.show()\n    else:\n        row = (df_graph.loc[vardictSWITCH2[graphVariable]] / df_graph_world.loc[vardictSWITCH2[graphVariable]]) * 100\n        plt.plot(row)\n        plt.xlabel(\"Year\")\n        plt.ylabel(vardict2[vardictSWITCH2[graphVariable]] + \" (percentage)\")\n        varname = vardict2[vardictSWITCH2[graphVariable]]\n        plt.title(CapitalizedCountryName + \"'s \" + varname + \" as a share of World \" + varname)\n        plt.show()\n",
   "execution_count": null,
   "outputs": [
    {
     "name": "stdout",
     "text": "This is not a valid answer. Please type Absolute or Percentage.\n",
     "output_type": "stream"
    },
    {
     "data": {
      "text/plain": "<Figure size 432x288 with 1 Axes>",
      "image/png": "[encoded data removed]"
     },
     "metadata": {
      "needs_background": "light",
      "image/png": {
       "width": 402,
       "height": 278
      }
     },
     "output_type": "display_data"
    },
    {
     "data": {
      "text/plain": "<Figure size 432x288 with 1 Axes>",
      "image/png": "[encoded data removed]"
     },
     "metadata": {
      "needs_background": "light",
      "image/png": {
       "width": 402,
       "height": 278
      }
     },
     "output_type": "display_data"
    },
    {
     "data": {
      "text/plain": "<Figure size 432x288 with 1 Axes>",
      "image/png": "[encoded data removed]"
     },
     "metadata": {
      "needs_background": "light",
      "image/png": {
       "width": 415,
       "height": 278
      }
     },
     "output_type": "display_data"
    }
   ]
  },
  {
   "cell_type": "markdown",
   "source": "The following block of code returns the selected country's rank for GDP, population, and the selected additional variables. This is done using the merge and recursive sorting functions from class.",
   "metadata": {
    "cell_id": "bdab81bb959f47c99676ba4708c8298a",
    "tags": [],
    "is_collapsed": false,
    "deepnote_cell_type": "text-cell-p"
   }
  },
  {
   "cell_type": "code",
   "metadata": {
    "cell_id": "635bf7d5da664c8d9e55aeffd2861f37",
    "tags": [],
    "deepnote_to_be_reexecuted": false,
    "source_hash": "f76c91b1",
    "execution_start": 1651605517162,
    "execution_millis": 1397,
    "deepnote_table_state": {
     "pageSize": 10,
     "pageIndex": 0,
     "filters": [],
     "sortBy": []
    },
    "deepnote_table_loading": false,
    "deepnote_cell_type": "code",
    "deepnote_cell_height": 1738
   },
   "source": "# BLOCK 9: RANKS OUT OF ALL COUNTRIES AND TERRITORIES\n\ncountryCode = CountryCodeGLOBALVAR\n\n# use merge function from class to sort this list with recursion\ndef merge(a, b):\n    \"\"\"Given two sorted lists of lists, return a single sorted list of lists\"\"\"\n    \n    # Check for and handle trivial merge cases\n    if len(a) == 0:\n        return b\n    if len(b) == 0:\n        return a\n\n    # Create a place to put the merged lists\n    merged = []\n    # Calculate how long the merged list should be\n    tot_length = len(a) + len(b)\n\n    # Merge a and b\n    while (len(merged) < tot_length):\n        if len(a) == 0:\n            merged.append(b.pop(0))\n        elif len(b) == 0:\n            merged.append(a.pop(0))\n        elif a[0][1] < b[0][1]:\n            merged.append(a.pop(0))\n        else:\n            merged.append(b.pop(0))\n\n    return merged\n\ndef merge_sort(s):\n    \"\"\"Recursive merge sort\"\"\"\n    # Catch trivial cases (i.e., lists that are sorted by definition)\n    if len(s) < 2:\n        return s\n    \n    # Find index at truncated midpoint of list\n    mid = len(s) // 2\n\n    # Return merge of the two sorted halves\n    return merge(merge_sort(s[0:mid]), merge_sort(s[mid:]))\n\ndef mostRecentYear(variable, country):\n    '''Takes a variable and a country and returns the year of the most recent data for that variable in that country.'''\n    countryVardfTest = wb.data.DataFrame(variable, country, mrv=2)\n    yearCol = list(countryVardfTest.columns)[1]\n    year = int(yearCol[-4:])\n    return year\n\n\ni = 0\nfor var in WBVars:\n    # get most recent year of data for the variable\n    year = mostRecentYear(var, countryCode)\n\n    # make dataframe with all countries for year with focus country's most recent data\n    countryVardf = wb.data.DataFrame(var, time=year)\n    # get rid of null value countries and regions for this variable\n    countryVardf = countryVardf.dropna(subset=[var])\n\n    # make country index a value in the dataframe\n    countryVardf.reset_index(inplace=True)\n\n    # get rid of non-countries/territories in list\n    countrydict = wb.economy.coder(countryVardf[\"index\"]);\n    countryVardf[\"country\"] = countrydict.values() \n    countryVardf = countryVardf.dropna(subset=[\"country\"])\n    countryVardf = countryVardf.drop(\"country\", axis=1)\n    \n    # make df into a list of all countries paired with their variable value\n    countryVarList = countryVardf.values.tolist()\n    orderedCountries = merge_sort(countryVarList)\n\n    # make a list of just the countries ordered highest to lowest\n    orderedOnlyCountries = []\n    for country in orderedCountries:\n        orderedOnlyCountries.insert(0, country[0])\n    \n    # use .index() function to find the focus country's rank (adding 1 since the function returns an index)\n    countryHighLowRank = orderedOnlyCountries.index(countryCode) + 1\n\n    # get country name\n    CapitalizedCountryName = countryGLOBALVAR.title()\n    print(f\"{CapitalizedCountryName}'s {WBNames[i]} ranking is {countryHighLowRank} out of 216 countries and territories in the world in {year}.\")\n    i +=1\n",
   "execution_count": null,
   "outputs": [
    {
     "name": "stdout",
     "text": "Guatemala's GDP ranking is 69 out of 216 countries and territories in the world in 2020.\nGuatemala's population ranking is 68 out of 216 countries and territories in the world in 2020.\nGuatemala's refugee population ranking is 128 out of 216 countries and territories in the world in 2020.\nGuatemala's infant mortality rate ranking is 75 out of 216 countries and territories in the world in 2020.\n",
     "output_type": "stream"
    }
   ]
  },
  {
   "cell_type": "markdown",
   "source": "The following piece of code (Block 10) will find which countries and territories are within a user-inputted percentage of your chosen country in respect to the indicators you chose earlier. These countries and territories  are also sorted from closest in the indicator to your chosen country to furthest.\\\nNote that if there is no data for your chosen indicators for the year of 2020, the program will drop that indicator from the analysis (as there is not enough available data). Similarly, if your chosen percentage (e.g. 10%) does not yield any comparable countries, the program will raise the percentage for you by 1% until a comparable country is found.",
   "metadata": {
    "cell_id": "b5aede9033e74eac99aa5a51ad63f210",
    "tags": [],
    "owner_user_id": "d543a9ff-d0f7-4929-834d-0f966d6c2535",
    "deepnote_cell_type": "markdown",
    "deepnote_cell_height": 322
   }
  },
  {
   "cell_type": "code",
   "metadata": {
    "cell_id": "0a5d652a0c8a41219d9817049fc57189",
    "tags": [],
    "deepnote_to_be_reexecuted": false,
    "source_hash": "e56753fb",
    "execution_start": 1651605521509,
    "execution_millis": 3289,
    "deepnote_cell_type": "code",
    "deepnote_cell_height": 2814
   },
   "source": "# BLOCK 10: finds comparable countries within alpha% of GDP, population, etc, in the year of 2020.  \n\n# copy the varlists, because we'll be editing them\nVARLIST = WBVars.copy()\nVARLISTNAMES = WBNames.copy()\n\ndef checkForData2(variableList, country_code):\n    \"\"\"Checks for whether the country has data for the additional variables in 2020\"\"\"\n    # create list\n    noDataVar = []\n    for var in variableList:\n        countryVardfTest = wb.data.DataFrame(var, country_code, time=2020)\n        if pd.isnull(countryVardfTest.at[country_code, var]):\n            print(f\"{codes[country_code]} doesn't have recent data for {VARLISTNAMES[VARLIST.index(var)]}.\")\n            print(f\"We have dropped {VARLISTNAMES[VARLIST.index(var)]} from the analysis.\")\n            noDataVar.append(var)\n            VARLISTNAMES.pop(VARLIST.index(var))\n            VARLIST.remove(var)\n\ncheckForData2(VARLIST, CountryCodeGLOBALVAR)  # check data \nVARLISTNAMES.append(\"all chosen indicators\") # append case of all indicators\n\n# create and clean dataframe\ncountrydf = wb.data.DataFrame(VARLIST, time=2020) \ncountrydf = countrydf[VARLIST]\ncountrydf.reset_index(inplace=True)\nfor i in VARLIST:\n    countrydf = countrydf.dropna(subset=[i]) # cleaned dataset of nulls\ncountrydict = wb.economy.coder(countrydf[\"index\"]); # match only to countries with ISO code\ncountrydf[\"clean\"] = countrydict.values()  \ncountrydf = countrydf.dropna(subset=[\"clean\"])\n\nfinalDF = countrydf.drop(\"clean\", axis=1) # our final dataset \n\nDictData = finalDF.set_index('index').T.to_dict('list'); DictData # convert dataset to dictionary\nlookup = CountryCodeGLOBALVAR # the chosen country UserInput\n\n# Exact has the indicators' exact values stored for the chosen country\nExact = []\nfor i in range(len(VARLIST)):\n    Exact.append(DictData[lookup][i])\n\nVARLIST.append(\"ALL\")\nMatch = {} # empty dictionary where we will store comparable countries\nfor i in range(len(VARLIST)):\n    Match[VARLIST[i]] = [lookup]\n\n# grab user input for desired percentage\ndef Percentage():\n    while True:\n        alpha = input(\"Within what percentage would you like to search? Acceptable input is a number between 0-100.)\")\n        try:\n            alpha = int(alpha)\n            assert(alpha > 0 and alpha <100)\n            break\n        except AssertionError:\n            print(\"This is not a valid answer. Please type a value between 0 and 100.\") \n        except ValueError:\n            print(\"That is not a number. Please type a value between 0 and 100.\")\n    return(alpha) \n\nalpha = Percentage()\nalpha = alpha/100\n\n# while loop to add matches\nValCount = {k: [len(Match[k])] for k in Match.keys()}\ntracker = 0 \nfor i in ValCount:\n    tracker += sum(ValCount[i])\nwhile tracker< (len(VARLIST)+1):\n    for i in DictData.keys():\n        if i not in Match[\"ALL\"]:\n            for j in range(len(Exact)):\n                if int(DictData[i][j]) in range(int(Exact[j] - alpha*Exact[j]), int(Exact[j]+alpha*Exact[j])):\n                    Match[VARLIST[j]].append(i)\n            count = 0\n            for j in range(len(Exact)):\n                if i in Match[VARLIST[j]]:\n                    count +=1\n            if count == (len(Exact)):\n                Match[\"ALL\"].append(i)\n    ValCount = {k: [len(Match[k])] for k in Match.keys()}; \n    tracker = 0 \n    for i in ValCount:\n        tracker += sum(ValCount[i])\n    if tracker < (len(VARLIST)+2):\n        print(f\"We were unable to find any matches within {alpha*100}% of your statistic. We'll increase the percentage by an increment of 1 percent.\")\n        alpha += 0.01\n\n# remove the first entry, which is just the chosen country\nfor i in VARLIST:\n    Match[i].pop(0)\n\n# sort and print output\n\n# make a test dictionary of the distance between the indicators of comparable countries and chosen country\ntest = {}\nfor i in range(len(Match)):\n    test[VARLIST[i]] = []\n\nfor i in range(len(VARLIST)-1):\n    for j in range(len(Match[VARLIST[i]])):\n        DiffDict = {}\n        DiffDict[\"country\"] = Match[VARLIST[i]][j]\n        DiffDict[\"difference\"] = abs(DictData[Match[VARLIST[i]][j]][i] - Exact[i])\n        Match[VARLIST[i]][j]\n        test[VARLIST[i]].append(DiffDict)\n        pass\n\n# sort the matches\nfor i in range(len(VARLIST)):\n    test[VARLIST[i]] = sorted(test[VARLIST[i]], key=lambda d: d['difference'])\n\nFinalOutput = {} # empty dictionary where we will store the sorted matches\n\nfor i in range(len(VARLIST)):\n    FinalOutput[VARLIST[i]] = []\n\nfor i in range(len(VARLIST)-1):\n    for j in range(len(Match[VARLIST[i]])):\n        FinalOutput[VARLIST[i]].append(test[VARLIST[i]][j]['country'])\n\nfor i in range (len(Match[\"ALL\"])):\n    FinalOutput[\"ALL\"].append(Match[\"ALL\"][i]) \n\nfor i in range(len(VARLIST)):\n    for j in range(len(FinalOutput[VARLIST[i]])):\n        FinalOutput[VARLIST[i]][j] = codes[FinalOutput[VARLIST[i]][j]]\n\nprint(\"RESULTS FOR 2020 (sorted from closest to furthest):\")\n\nfor i in range(len(VARLISTNAMES)-1):\n    print(f\"{codes[lookup]}'s {VARLISTNAMES[i]} is {Exact[i]}.\")\nfor i in range(len(VARLISTNAMES)):\n    if len(Match[VARLIST[i]]) == 0:\n        print(f\"There are no countries and territories within {round(alpha*100)} percent of {codes[lookup]}'s {VARLISTNAMES[i]}.\")\n    else:\n        print(f\"The countries or territories that are within {round(alpha*100)} percent of {codes[lookup]}'s {VARLISTNAMES[i]} is {', '.join(FinalOutput[VARLIST[i]])}.\")\nprint(f\"Note that the list of countries or territories comparable on all chosen indicators is unsorted since there is no one indicator to sort by.\")\n",
   "execution_count": null,
   "outputs": [
    {
     "name": "stdout",
     "text": "RESULTS FOR 2020 (sorted from closest to furthest):\nGuatemala's GDP is 77604632170.5853.\nGuatemala's population is 16858333.0.\nGuatemala's refugee population is 462.0.\nGuatemala's infant mortality rate is 20.1.\nThe countries or territories that are within 23 percent of Guatemala's GDP is Dominican Republic, Sri Lanka, Oman, Luxembourg, Bulgaria, Ghana, Tanzania, United Republic of, Costa Rica, Côte d'Ivoire, Belarus, Uzbekistan.\nThe countries or territories that are within 23 percent of Guatemala's population is Senegal, Chad, Netherlands, Ecuador, Somalia, Zambia, Kazakhstan, Zimbabwe, Chile, Malawi, Romania, Mali, Guinea.\nThe countries or territories that are within 23 percent of Guatemala's refugee population is Kazakhstan, Gabon, Moldova, Republic of.\nThe countries or territories that are within 23 percent of Guatemala's infant mortality rate is Bolivia, Plurinational State of, Algeria, Indonesia, Philippines, Iraq, Azerbaijan, Fiji, Viet Nam, Egypt, Nepal, Guyana, Nauru, Paraguay, Morocco, Kyrgyzstan, Suriname.\nThere are no countries and territories within 23 percent of Guatemala's all chosen indicators.\nNote that the list of countries or territories comparable on all chosen indicators is unsorted since there is no one indicator to sort by.\n",
     "output_type": "stream"
    }
   ]
  },
  {
   "cell_type": "markdown",
   "source": "<a style='text-decoration:none;line-height:16px;display:flex;color:#5B5B62;padding:10px;justify-content:end;' href='https://deepnote.com?utm_source=created-in-deepnote-cell&projectId=91a64189-2c46-45dd-ba11-1fb67be145b2' target=\"_blank\">\n<img alt='Created in deepnote.com' style='display:inline;max-height:16px;margin:0px;margin-right:7.5px;' src='data:image/svg+xml;base64,PD94bWwgdmVyc2lvbj0iMS4wIiBlbmNvZGluZz0iVVRGLTgiPz4KPHN2ZyB3aWR0aD0iODBweCIgaGVpZ2h0PSI4MHB4IiB2aWV3Qm94PSIwIDAgODAgODAiIHZlcnNpb249IjEuMSIgeG1sbnM9Imh0dHA6Ly93d3cudzMub3JnLzIwMDAvc3ZnIiB4bWxuczp4bGluaz0iaHR0cDovL3d3dy53My5vcmcvMTk5OS94bGluayI+CiAgICA8IS0tIEdlbmVyYXRvcjogU2tldGNoIDU0LjEgKDc2NDkwKSAtIGh0dHBzOi8vc2tldGNoYXBwLmNvbSAtLT4KICAgIDx0aXRsZT5Hcm91cCAzPC90aXRsZT4KICAgIDxkZXNjPkNyZWF0ZWQgd2l0aCBTa2V0Y2guPC9kZXNjPgogICAgPGcgaWQ9IkxhbmRpbmciIHN0cm9rZT0ibm9uZSIgc3Ryb2tlLXdpZHRoPSIxIiBmaWxsPSJub25lIiBmaWxsLXJ1bGU9ImV2ZW5vZGQiPgogICAgICAgIDxnIGlkPSJBcnRib2FyZCIgdHJhbnNmb3JtPSJ0cmFuc2xhdGUoLTEyMzUuMDAwMDAwLCAtNzkuMDAwMDAwKSI+CiAgICAgICAgICAgIDxnIGlkPSJHcm91cC0zIiB0cmFuc2Zvcm09InRyYW5zbGF0ZSgxMjM1LjAwMDAwMCwgNzkuMDAwMDAwKSI+CiAgICAgICAgICAgICAgICA8cG9seWdvbiBpZD0iUGF0aC0yMCIgZmlsbD0iIzAyNjVCNCIgcG9pbnRzPSIyLjM3NjIzNzYyIDgwIDM4LjA0NzY2NjcgODAgNTcuODIxNzgyMiA3My44MDU3NTkyIDU3LjgyMTc4MjIgMzIuNzU5MjczOSAzOS4xNDAyMjc4IDMxLjY4MzE2ODMiPjwvcG9seWdvbj4KICAgICAgICAgICAgICAgIDxwYXRoIGQ9Ik0zNS4wMDc3MTgsODAgQzQyLjkwNjIwMDcsNzYuNDU0OTM1OCA0Ny41NjQ5MTY3LDcxLjU0MjI2NzEgNDguOTgzODY2LDY1LjI2MTk5MzkgQzUxLjExMjI4OTksNTUuODQxNTg0MiA0MS42NzcxNzk1LDQ5LjIxMjIyODQgMjUuNjIzOTg0Niw0OS4yMTIyMjg0IEMyNS40ODQ5Mjg5LDQ5LjEyNjg0NDggMjkuODI2MTI5Niw0My4yODM4MjQ4IDM4LjY0NzU4NjksMzEuNjgzMTY4MyBMNzIuODcxMjg3MSwzMi41NTQ0MjUgTDY1LjI4MDk3Myw2Ny42NzYzNDIxIEw1MS4xMTIyODk5LDc3LjM3NjE0NCBMMzUuMDA3NzE4LDgwIFoiIGlkPSJQYXRoLTIyIiBmaWxsPSIjMDAyODY4Ij48L3BhdGg+CiAgICAgICAgICAgICAgICA8cGF0aCBkPSJNMCwzNy43MzA0NDA1IEwyNy4xMTQ1MzcsMC4yNTcxMTE0MzYgQzYyLjM3MTUxMjMsLTEuOTkwNzE3MDEgODAsMTAuNTAwMzkyNyA4MCwzNy43MzA0NDA1IEM4MCw2NC45NjA0ODgyIDY0Ljc3NjUwMzgsNzkuMDUwMzQxNCAzNC4zMjk1MTEzLDgwIEM0Ny4wNTUzNDg5LDc3LjU2NzA4MDggNTMuNDE4MjY3Nyw3MC4zMTM2MTAzIDUzLjQxODI2NzcsNTguMjM5NTg4NSBDNTMuNDE4MjY3Nyw0MC4xMjg1NTU3IDM2LjMwMzk1NDQsMzcuNzMwNDQwNSAyNS4yMjc0MTcsMzcuNzMwNDQwNSBDMTcuODQzMDU4NiwzNy43MzA0NDA1IDkuNDMzOTE5NjYsMzcuNzMwNDQwNSAwLDM3LjczMDQ0MDUgWiIgaWQ9IlBhdGgtMTkiIGZpbGw9IiMzNzkzRUYiPjwvcGF0aD4KICAgICAgICAgICAgPC9nPgogICAgICAgIDwvZz4KICAgIDwvZz4KPC9zdmc+' > </img>\nCreated in <span style='font-weight:600;margin-left:4px;'>Deepnote</span></a>",
   "metadata": {
    "tags": [],
    "created_in_deepnote_cell": true,
    "deepnote_cell_type": "markdown"
   }
  }
 ],
 "nbformat": 4,
 "nbformat_minor": 2,
 "metadata": {
  "deepnoteSessionId": "dea8a0f5-35e3-4468-94eb-804ff5fc7baa",
  "kernelspec": {
   "display_name": "Python 3",
   "language": "python",
   "name": "python3"
  },
  "language_info": {
   "codemirror_mode": {
    "name": "ipython",
    "version": 3
   },
   "file_extension": ".py",
   "mimetype": "text/x-python",
   "name": "python",
   "nbconvert_exporter": "python",
   "pygments_lexer": "ipython3",
   "version": "3.7.5"
  },
  "deepnote_execution_queue": [],
  "deepnote_notebook_id": "0f460af1-1872-4aa4-804e-36716dbf15fd",
  "deepnote": {}
 }
}